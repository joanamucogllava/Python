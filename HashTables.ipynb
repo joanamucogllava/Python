{
 "cells": [
  {
   "cell_type": "code",
   "execution_count": 3,
   "metadata": {},
   "outputs": [],
   "source": [
    "#Find a pair of numbers that add up to 10\n",
    "\n",
    "def pair10(given_list):\n",
    "    numbers_seen = {}\n",
    "    for item in given_list:\n",
    "        if (10 - item) in numbers_seen:\n",
    "            print(str(10-item) + ', ' + str(item))\n",
    "            return\n",
    "        else:\n",
    "            numbers_seen[item] = 1\n",
    "    print(\"There is no pair that adds up to 10.\")"
   ]
  },
  {
   "cell_type": "code",
   "execution_count": 4,
   "metadata": {},
   "outputs": [
    {
     "name": "stdout",
     "output_type": "stream",
     "text": [
      "1, 9\n"
     ]
    }
   ],
   "source": [
    "pair10([1, 1, 1 ,2, 3, 9])"
   ]
  },
  {
   "cell_type": "code",
   "execution_count": null,
   "metadata": {},
   "outputs": [],
   "source": []
  }
 ],
 "metadata": {
  "kernelspec": {
   "display_name": "Python 3.9.4 64-bit ('3.9')",
   "language": "python",
   "name": "python394jvsc74a57bd07812ea015bdcee6f23a998adcdd2ef97c151c0c241b7b7070987d9313e41299d"
  },
  "language_info": {
   "codemirror_mode": {
    "name": "ipython",
    "version": 3
   },
   "file_extension": ".py",
   "mimetype": "text/x-python",
   "name": "python",
   "nbconvert_exporter": "python",
   "pygments_lexer": "ipython3",
   "version": "3.9.4"
  }
 },
 "nbformat": 4,
 "nbformat_minor": 4
}
