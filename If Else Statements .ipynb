{
 "cells": [
  {
   "cell_type": "code",
   "execution_count": 1,
   "metadata": {},
   "outputs": [
    {
     "name": "stdout",
     "output_type": "stream",
     "text": [
      "a is less than b\n"
     ]
    }
   ],
   "source": [
    "a = 3\n",
    "b = 4\n",
    "if a < b:\n",
    "    print(\"a is less than b\")\n",
    "else:\n",
    "    print(\"a is greater than b\")"
   ]
  },
  {
   "cell_type": "code",
   "execution_count": 2,
   "metadata": {},
   "outputs": [
    {
     "name": "stdout",
     "output_type": "stream",
     "text": [
      "a is greater than b\n"
     ]
    }
   ],
   "source": [
    "a = 8\n",
    "b = 4\n",
    "if a < b:\n",
    "    print(\"a is less than b\")\n",
    "else:\n",
    "    print(\"a is greater than b\")"
   ]
  },
  {
   "cell_type": "code",
   "execution_count": 3,
   "metadata": {},
   "outputs": [
    {
     "name": "stdout",
     "output_type": "stream",
     "text": [
      "d is greater than e\n"
     ]
    }
   ],
   "source": [
    "d = 7\n",
    "e = 2\n",
    "if d < e:\n",
    "    print(\"d is less than e\")\n",
    "elif d == e:\n",
    "    print(\"d is equal to e\")\n",
    "else:\n",
    "    print(\"d is greater than e\")"
   ]
  },
  {
   "cell_type": "code",
   "execution_count": 4,
   "metadata": {},
   "outputs": [
    {
     "name": "stdout",
     "output_type": "stream",
     "text": [
      "d is equal to e\n"
     ]
    }
   ],
   "source": [
    "d = 2\n",
    "e = 2\n",
    "if d < e:\n",
    "    print(\"d is less than e\")\n",
    "elif d == e:\n",
    "    print(\"d is equal to e\")\n",
    "else:\n",
    "    print(\"d is greater than e\")"
   ]
  },
  {
   "cell_type": "code",
   "execution_count": 5,
   "metadata": {},
   "outputs": [
    {
     "name": "stdout",
     "output_type": "stream",
     "text": [
      "d is less than e\n"
     ]
    }
   ],
   "source": [
    "d = -2\n",
    "e = 2\n",
    "if d < e:\n",
    "    print(\"d is less than e\")\n",
    "elif d == e:\n",
    "    print(\"d is equal to e\")\n",
    "else:\n",
    "    print(\"d is greater than e\") "
   ]
  },
  {
   "cell_type": "code",
   "execution_count": 17,
   "metadata": {},
   "outputs": [
    {
     "name": "stdout",
     "output_type": "stream",
     "text": [
      "d is greater than e by more than 10\n",
      "outside the if block\n"
     ]
    }
   ],
   "source": [
    "d = 100\n",
    "e = 2\n",
    "if d < e:\n",
    "    print(\"d is less than e\")\n",
    "elif d == e:\n",
    "    print(\"d is equal to e\")\n",
    "elif d > e + 10:\n",
    "    print(\"d is greater than e by more than 10\")\n",
    "else:\n",
    "    print(\"d is greater than e\") \n",
    "print(\"outside the if block\")"
   ]
  },
  {
   "cell_type": "code",
   "execution_count": 18,
   "metadata": {},
   "outputs": [
    {
     "name": "stdout",
     "output_type": "stream",
     "text": [
      "g is less than h\n"
     ]
    }
   ],
   "source": [
    "g = 7\n",
    "h = 8\n",
    "if g < h:\n",
    "    print(\"g is less than h\")\n",
    "else:\n",
    "    if g == h:\n",
    "        print(\"g is equal to h\")\n",
    "    else:\n",
    "        print(\"g is greater than h\")"
   ]
  },
  {
   "cell_type": "code",
   "execution_count": 19,
   "metadata": {},
   "outputs": [
    {
     "name": "stdout",
     "output_type": "stream",
     "text": [
      "g is equal to h\n"
     ]
    }
   ],
   "source": [
    "g = 8\n",
    "h = 8\n",
    "if g < h:\n",
    "    print(\"g is less than h\")\n",
    "else:\n",
    "    if g == h:\n",
    "        print(\"g is equal to h\")\n",
    "    else:\n",
    "        print(\"g is greater than h\")"
   ]
  },
  {
   "cell_type": "code",
   "execution_count": 20,
   "metadata": {},
   "outputs": [
    {
     "name": "stdout",
     "output_type": "stream",
     "text": [
      "g is greater than h\n"
     ]
    }
   ],
   "source": [
    "g = 80\n",
    "h = 8\n",
    "if g < h:\n",
    "    print(\"g is less than h\")\n",
    "else:\n",
    "    if g == h:\n",
    "        print(\"g is equal to h\")\n",
    "    else:\n",
    "        print(\"g is greater than h\")"
   ]
  },
  {
   "cell_type": "code",
   "execution_count": 49,
   "metadata": {},
   "outputs": [
    {
     "name": "stdout",
     "output_type": "stream",
     "text": [
      "bmi: \n",
      "18.62679878155527\n",
      "Joana\n",
      "has a normal weight\n"
     ]
    }
   ],
   "source": [
    "name = \"Joana\"\n",
    "weight_kg = 53.2\n",
    "height_m = 1.69\n",
    "\n",
    "bmi = weight_kg / height_m ** 2\n",
    "print(\"bmi: \")\n",
    "print(bmi)\n",
    "if bmi < 18:\n",
    "    print(name)\n",
    "    print(\"is underweight\")\n",
    "else:\n",
    "    if bmi < 20 and bmi > 18:\n",
    "        print(name)\n",
    "        print(\"has a normal weight\")\n",
    "    else:\n",
    "        if bmi < 30:\n",
    "            print(name)\n",
    "            print(\"is overweight\")\n",
    "        else:\n",
    "            print(name)\n",
    "            print(\"is obese\")"
   ]
  }
 ],
 "metadata": {
  "kernelspec": {
   "display_name": "Python 3",
   "language": "python",
   "name": "python3"
  },
  "language_info": {
   "codemirror_mode": {
    "name": "ipython",
    "version": 3
   },
   "file_extension": ".py",
   "mimetype": "text/x-python",
   "name": "python",
   "nbconvert_exporter": "python",
   "pygments_lexer": "ipython3",
   "version": "3.6.5"
  }
 },
 "nbformat": 4,
 "nbformat_minor": 2
}
